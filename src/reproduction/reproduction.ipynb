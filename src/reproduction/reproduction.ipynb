{
 "cells": [
  {
   "cell_type": "code",
   "execution_count": 1,
   "metadata": {},
   "outputs": [],
   "source": [
    "# python 3.10.2 \n",
    "import sys\n",
    "import os\n",
    "import numpy as np              # 1.22.0\n",
    "import pandas as pd         # 1.3.4"
   ]
  },
  {
   "cell_type": "code",
   "execution_count": 2,
   "metadata": {},
   "outputs": [
    {
     "name": "stdout",
     "output_type": "stream",
     "text": [
      "3.10.2 (tags/v3.10.2:a58ebcc, Jan 17 2022, 14:12:15) [MSC v.1929 64 bit (AMD64)]\n",
      "numpy: 1.23.0\n",
      "1.3.4\n"
     ]
    }
   ],
   "source": [
    "print(sys.version)\n",
    "print('{}: {}'.format(np.__name__, np.__version__))\n",
    "print(pd.__version__)"
   ]
  },
  {
   "cell_type": "code",
   "execution_count": 3,
   "metadata": {},
   "outputs": [],
   "source": [
    "sys.path.append(os.path.abspath('../'))"
   ]
  },
  {
   "cell_type": "code",
   "execution_count": 4,
   "metadata": {},
   "outputs": [],
   "source": [
    "from evaluation import Evaluator\n",
    "from data import FncData\n",
    "\n",
    "FNC_DATA_PATH = '../../fnc-1/'"
   ]
  },
  {
   "cell_type": "code",
   "execution_count": 5,
   "metadata": {},
   "outputs": [
    {
     "data": {
      "text/html": [
       "<div>\n",
       "<style scoped>\n",
       "    .dataframe tbody tr th:only-of-type {\n",
       "        vertical-align: middle;\n",
       "    }\n",
       "\n",
       "    .dataframe tbody tr th {\n",
       "        vertical-align: top;\n",
       "    }\n",
       "\n",
       "    .dataframe thead th {\n",
       "        text-align: right;\n",
       "    }\n",
       "</style>\n",
       "<table border=\"1\" class=\"dataframe\">\n",
       "  <thead>\n",
       "    <tr style=\"text-align: right;\">\n",
       "      <th></th>\n",
       "      <th>Headline</th>\n",
       "      <th>Body ID</th>\n",
       "      <th>Stance</th>\n",
       "      <th>articleBody</th>\n",
       "    </tr>\n",
       "  </thead>\n",
       "  <tbody>\n",
       "    <tr>\n",
       "      <th>0</th>\n",
       "      <td>Ferguson riots: Pregnant woman loses eye after...</td>\n",
       "      <td>2008</td>\n",
       "      <td>unrelated</td>\n",
       "      <td>A RESPECTED senior French police officer inves...</td>\n",
       "    </tr>\n",
       "    <tr>\n",
       "      <th>1</th>\n",
       "      <td>Apple Stores to install safes to secure gold A...</td>\n",
       "      <td>2008</td>\n",
       "      <td>unrelated</td>\n",
       "      <td>A RESPECTED senior French police officer inves...</td>\n",
       "    </tr>\n",
       "    <tr>\n",
       "      <th>2</th>\n",
       "      <td>Pregnant woman loses eye after police shoot be...</td>\n",
       "      <td>2008</td>\n",
       "      <td>unrelated</td>\n",
       "      <td>A RESPECTED senior French police officer inves...</td>\n",
       "    </tr>\n",
       "    <tr>\n",
       "      <th>3</th>\n",
       "      <td>We just found out the #Ferguson Protester who ...</td>\n",
       "      <td>2008</td>\n",
       "      <td>unrelated</td>\n",
       "      <td>A RESPECTED senior French police officer inves...</td>\n",
       "    </tr>\n",
       "    <tr>\n",
       "      <th>4</th>\n",
       "      <td>Police Chief In Charge of Paris Attacks Commit...</td>\n",
       "      <td>2008</td>\n",
       "      <td>discuss</td>\n",
       "      <td>A RESPECTED senior French police officer inves...</td>\n",
       "    </tr>\n",
       "  </tbody>\n",
       "</table>\n",
       "</div>"
      ],
      "text/plain": [
       "                                            Headline  Body ID     Stance  \\\n",
       "0  Ferguson riots: Pregnant woman loses eye after...     2008  unrelated   \n",
       "1  Apple Stores to install safes to secure gold A...     2008  unrelated   \n",
       "2  Pregnant woman loses eye after police shoot be...     2008  unrelated   \n",
       "3  We just found out the #Ferguson Protester who ...     2008  unrelated   \n",
       "4  Police Chief In Charge of Paris Attacks Commit...     2008    discuss   \n",
       "\n",
       "                                         articleBody  \n",
       "0  A RESPECTED senior French police officer inves...  \n",
       "1  A RESPECTED senior French police officer inves...  \n",
       "2  A RESPECTED senior French police officer inves...  \n",
       "3  A RESPECTED senior French police officer inves...  \n",
       "4  A RESPECTED senior French police officer inves...  "
      ]
     },
     "execution_count": 5,
     "metadata": {},
     "output_type": "execute_result"
    }
   ],
   "source": [
    "competition_data = FncData(\n",
    "    bodies_csv_path=os.path.join(FNC_DATA_PATH, 'competition_test_bodies.csv'),\n",
    "    stances_csv_path=os.path.join(FNC_DATA_PATH, 'competition_test_stances.csv'))\n",
    "competition_data.headlines_bodies_and_stances.head()"
   ]
  },
  {
   "cell_type": "code",
   "execution_count": null,
   "metadata": {},
   "outputs": [],
   "source": []
  },
  {
   "cell_type": "code",
   "execution_count": 6,
   "metadata": {},
   "outputs": [
    {
     "data": {
      "text/html": [
       "<div>\n",
       "<style scoped>\n",
       "    .dataframe tbody tr th:only-of-type {\n",
       "        vertical-align: middle;\n",
       "    }\n",
       "\n",
       "    .dataframe tbody tr th {\n",
       "        vertical-align: top;\n",
       "    }\n",
       "\n",
       "    .dataframe thead th {\n",
       "        text-align: right;\n",
       "    }\n",
       "</style>\n",
       "<table border=\"1\" class=\"dataframe\">\n",
       "  <thead>\n",
       "    <tr style=\"text-align: right;\">\n",
       "      <th></th>\n",
       "      <th>Headline</th>\n",
       "      <th>Body ID</th>\n",
       "      <th>Stance</th>\n",
       "      <th>articleBody</th>\n",
       "    </tr>\n",
       "  </thead>\n",
       "  <tbody>\n",
       "    <tr>\n",
       "      <th>0</th>\n",
       "      <td>Ferguson riots: Pregnant woman loses eye after...</td>\n",
       "      <td>2008</td>\n",
       "      <td>unrelated</td>\n",
       "      <td>A RESPECTED senior French police officer inves...</td>\n",
       "    </tr>\n",
       "    <tr>\n",
       "      <th>1</th>\n",
       "      <td>Apple Stores to install safes to secure gold A...</td>\n",
       "      <td>2008</td>\n",
       "      <td>unrelated</td>\n",
       "      <td>A RESPECTED senior French police officer inves...</td>\n",
       "    </tr>\n",
       "    <tr>\n",
       "      <th>2</th>\n",
       "      <td>Pregnant woman loses eye after police shoot be...</td>\n",
       "      <td>2008</td>\n",
       "      <td>unrelated</td>\n",
       "      <td>A RESPECTED senior French police officer inves...</td>\n",
       "    </tr>\n",
       "    <tr>\n",
       "      <th>3</th>\n",
       "      <td>We just found out the #Ferguson Protester who ...</td>\n",
       "      <td>2008</td>\n",
       "      <td>unrelated</td>\n",
       "      <td>A RESPECTED senior French police officer inves...</td>\n",
       "    </tr>\n",
       "    <tr>\n",
       "      <th>4</th>\n",
       "      <td>Police Chief In Charge of Paris Attacks Commit...</td>\n",
       "      <td>2008</td>\n",
       "      <td>discuss</td>\n",
       "      <td>A RESPECTED senior French police officer inves...</td>\n",
       "    </tr>\n",
       "  </tbody>\n",
       "</table>\n",
       "</div>"
      ],
      "text/plain": [
       "                                            Headline  Body ID     Stance  \\\n",
       "0  Ferguson riots: Pregnant woman loses eye after...     2008  unrelated   \n",
       "1  Apple Stores to install safes to secure gold A...     2008  unrelated   \n",
       "2  Pregnant woman loses eye after police shoot be...     2008  unrelated   \n",
       "3  We just found out the #Ferguson Protester who ...     2008  unrelated   \n",
       "4  Police Chief In Charge of Paris Attacks Commit...     2008    discuss   \n",
       "\n",
       "                                         articleBody  \n",
       "0  A RESPECTED senior French police officer inves...  \n",
       "1  A RESPECTED senior French police officer inves...  \n",
       "2  A RESPECTED senior French police officer inves...  \n",
       "3  A RESPECTED senior French police officer inves...  \n",
       "4  A RESPECTED senior French police officer inves...  "
      ]
     },
     "execution_count": 6,
     "metadata": {},
     "output_type": "execute_result"
    }
   ],
   "source": [
    "athene_data = FncData(\n",
    "    bodies_csv_path=os.path.join(FNC_DATA_PATH, 'competition_test_bodies.csv'),\n",
    "    stances_csv_path=os.path.join('athene', 'submission.csv'))\n",
    "athene_data.headlines_bodies_and_stances.head()"
   ]
  },
  {
   "cell_type": "code",
   "execution_count": 7,
   "metadata": {},
   "outputs": [
    {
     "data": {
      "text/html": [
       "<div>\n",
       "<style scoped>\n",
       "    .dataframe tbody tr th:only-of-type {\n",
       "        vertical-align: middle;\n",
       "    }\n",
       "\n",
       "    .dataframe tbody tr th {\n",
       "        vertical-align: top;\n",
       "    }\n",
       "\n",
       "    .dataframe thead th {\n",
       "        text-align: right;\n",
       "    }\n",
       "</style>\n",
       "<table border=\"1\" class=\"dataframe\">\n",
       "  <thead>\n",
       "    <tr style=\"text-align: right;\">\n",
       "      <th></th>\n",
       "      <th>Headline</th>\n",
       "      <th>Body ID</th>\n",
       "      <th>Stance</th>\n",
       "      <th>articleBody</th>\n",
       "    </tr>\n",
       "  </thead>\n",
       "  <tbody>\n",
       "    <tr>\n",
       "      <th>0</th>\n",
       "      <td>Ferguson riots: Pregnant woman loses eye after...</td>\n",
       "      <td>2008</td>\n",
       "      <td>unrelated</td>\n",
       "      <td>A RESPECTED senior French police officer inves...</td>\n",
       "    </tr>\n",
       "    <tr>\n",
       "      <th>1</th>\n",
       "      <td>Apple Stores to install safes to secure gold A...</td>\n",
       "      <td>2008</td>\n",
       "      <td>unrelated</td>\n",
       "      <td>A RESPECTED senior French police officer inves...</td>\n",
       "    </tr>\n",
       "    <tr>\n",
       "      <th>2</th>\n",
       "      <td>Pregnant woman loses eye after police shoot be...</td>\n",
       "      <td>2008</td>\n",
       "      <td>unrelated</td>\n",
       "      <td>A RESPECTED senior French police officer inves...</td>\n",
       "    </tr>\n",
       "    <tr>\n",
       "      <th>3</th>\n",
       "      <td>We just found out the #Ferguson Protester who ...</td>\n",
       "      <td>2008</td>\n",
       "      <td>unrelated</td>\n",
       "      <td>A RESPECTED senior French police officer inves...</td>\n",
       "    </tr>\n",
       "    <tr>\n",
       "      <th>4</th>\n",
       "      <td>Police Chief In Charge of Paris Attacks Commit...</td>\n",
       "      <td>2008</td>\n",
       "      <td>discuss</td>\n",
       "      <td>A RESPECTED senior French police officer inves...</td>\n",
       "    </tr>\n",
       "  </tbody>\n",
       "</table>\n",
       "</div>"
      ],
      "text/plain": [
       "                                            Headline  Body ID     Stance  \\\n",
       "0  Ferguson riots: Pregnant woman loses eye after...     2008  unrelated   \n",
       "1  Apple Stores to install safes to secure gold A...     2008  unrelated   \n",
       "2  Pregnant woman loses eye after police shoot be...     2008  unrelated   \n",
       "3  We just found out the #Ferguson Protester who ...     2008  unrelated   \n",
       "4  Police Chief In Charge of Paris Attacks Commit...     2008    discuss   \n",
       "\n",
       "                                         articleBody  \n",
       "0  A RESPECTED senior French police officer inves...  \n",
       "1  A RESPECTED senior French police officer inves...  \n",
       "2  A RESPECTED senior French police officer inves...  \n",
       "3  A RESPECTED senior French police officer inves...  \n",
       "4  A RESPECTED senior French police officer inves...  "
      ]
     },
     "execution_count": 7,
     "metadata": {},
     "output_type": "execute_result"
    }
   ],
   "source": [
    "athene_official_data = FncData(\n",
    "    bodies_csv_path=os.path.join(FNC_DATA_PATH, 'competition_test_bodies.csv'),\n",
    "    stances_csv_path=os.path.join('athene', 'official_FNC_submission.csv'))\n",
    "athene_official_data.headlines_bodies_and_stances.head()"
   ]
  },
  {
   "cell_type": "code",
   "execution_count": null,
   "metadata": {},
   "outputs": [],
   "source": []
  },
  {
   "cell_type": "code",
   "execution_count": 8,
   "metadata": {},
   "outputs": [
    {
     "data": {
      "text/html": [
       "<div>\n",
       "<style scoped>\n",
       "    .dataframe tbody tr th:only-of-type {\n",
       "        vertical-align: middle;\n",
       "    }\n",
       "\n",
       "    .dataframe tbody tr th {\n",
       "        vertical-align: top;\n",
       "    }\n",
       "\n",
       "    .dataframe thead th {\n",
       "        text-align: right;\n",
       "    }\n",
       "</style>\n",
       "<table border=\"1\" class=\"dataframe\">\n",
       "  <thead>\n",
       "    <tr style=\"text-align: right;\">\n",
       "      <th></th>\n",
       "      <th>Headline</th>\n",
       "      <th>Body ID</th>\n",
       "      <th>Stance</th>\n",
       "      <th>articleBody</th>\n",
       "    </tr>\n",
       "  </thead>\n",
       "  <tbody>\n",
       "    <tr>\n",
       "      <th>0</th>\n",
       "      <td>Ferguson riots: Pregnant woman loses eye after...</td>\n",
       "      <td>2008</td>\n",
       "      <td>unrelated</td>\n",
       "      <td>A RESPECTED senior French police officer inves...</td>\n",
       "    </tr>\n",
       "    <tr>\n",
       "      <th>1</th>\n",
       "      <td>Apple Stores to install safes to secure gold A...</td>\n",
       "      <td>2008</td>\n",
       "      <td>unrelated</td>\n",
       "      <td>A RESPECTED senior French police officer inves...</td>\n",
       "    </tr>\n",
       "    <tr>\n",
       "      <th>2</th>\n",
       "      <td>Pregnant woman loses eye after police shoot be...</td>\n",
       "      <td>2008</td>\n",
       "      <td>unrelated</td>\n",
       "      <td>A RESPECTED senior French police officer inves...</td>\n",
       "    </tr>\n",
       "    <tr>\n",
       "      <th>3</th>\n",
       "      <td>We just found out the #Ferguson Protester who ...</td>\n",
       "      <td>2008</td>\n",
       "      <td>unrelated</td>\n",
       "      <td>A RESPECTED senior French police officer inves...</td>\n",
       "    </tr>\n",
       "    <tr>\n",
       "      <th>4</th>\n",
       "      <td>Police Chief In Charge of Paris Attacks Commit...</td>\n",
       "      <td>2008</td>\n",
       "      <td>agree</td>\n",
       "      <td>A RESPECTED senior French police officer inves...</td>\n",
       "    </tr>\n",
       "  </tbody>\n",
       "</table>\n",
       "</div>"
      ],
      "text/plain": [
       "                                            Headline  Body ID     Stance  \\\n",
       "0  Ferguson riots: Pregnant woman loses eye after...     2008  unrelated   \n",
       "1  Apple Stores to install safes to secure gold A...     2008  unrelated   \n",
       "2  Pregnant woman loses eye after police shoot be...     2008  unrelated   \n",
       "3  We just found out the #Ferguson Protester who ...     2008  unrelated   \n",
       "4  Police Chief In Charge of Paris Attacks Commit...     2008      agree   \n",
       "\n",
       "                                         articleBody  \n",
       "0  A RESPECTED senior French police officer inves...  \n",
       "1  A RESPECTED senior French police officer inves...  \n",
       "2  A RESPECTED senior French police officer inves...  \n",
       "3  A RESPECTED senior French police officer inves...  \n",
       "4  A RESPECTED senior French police officer inves...  "
      ]
     },
     "execution_count": 8,
     "metadata": {},
     "output_type": "execute_result"
    }
   ],
   "source": [
    "talos_data = FncData(\n",
    "    bodies_csv_path=os.path.join(FNC_DATA_PATH, 'competition_test_bodies.csv'),\n",
    "    stances_csv_path=os.path.join('talos', 'averaged_2models_cor4.csv'))\n",
    "talos_data.headlines_bodies_and_stances.head()"
   ]
  },
  {
   "cell_type": "code",
   "execution_count": 9,
   "metadata": {},
   "outputs": [
    {
     "data": {
      "text/html": [
       "<div>\n",
       "<style scoped>\n",
       "    .dataframe tbody tr th:only-of-type {\n",
       "        vertical-align: middle;\n",
       "    }\n",
       "\n",
       "    .dataframe tbody tr th {\n",
       "        vertical-align: top;\n",
       "    }\n",
       "\n",
       "    .dataframe thead th {\n",
       "        text-align: right;\n",
       "    }\n",
       "</style>\n",
       "<table border=\"1\" class=\"dataframe\">\n",
       "  <thead>\n",
       "    <tr style=\"text-align: right;\">\n",
       "      <th></th>\n",
       "      <th>Headline</th>\n",
       "      <th>Body ID</th>\n",
       "      <th>Stance</th>\n",
       "      <th>articleBody</th>\n",
       "    </tr>\n",
       "  </thead>\n",
       "  <tbody>\n",
       "    <tr>\n",
       "      <th>0</th>\n",
       "      <td>Ferguson riots: Pregnant woman loses eye after...</td>\n",
       "      <td>2008</td>\n",
       "      <td>unrelated</td>\n",
       "      <td>A RESPECTED senior French police officer inves...</td>\n",
       "    </tr>\n",
       "    <tr>\n",
       "      <th>1</th>\n",
       "      <td>Apple Stores to install safes to secure gold A...</td>\n",
       "      <td>2008</td>\n",
       "      <td>unrelated</td>\n",
       "      <td>A RESPECTED senior French police officer inves...</td>\n",
       "    </tr>\n",
       "    <tr>\n",
       "      <th>2</th>\n",
       "      <td>Pregnant woman loses eye after police shoot be...</td>\n",
       "      <td>2008</td>\n",
       "      <td>unrelated</td>\n",
       "      <td>A RESPECTED senior French police officer inves...</td>\n",
       "    </tr>\n",
       "    <tr>\n",
       "      <th>3</th>\n",
       "      <td>We just found out the #Ferguson Protester who ...</td>\n",
       "      <td>2008</td>\n",
       "      <td>unrelated</td>\n",
       "      <td>A RESPECTED senior French police officer inves...</td>\n",
       "    </tr>\n",
       "    <tr>\n",
       "      <th>4</th>\n",
       "      <td>Police Chief In Charge of Paris Attacks Commit...</td>\n",
       "      <td>2008</td>\n",
       "      <td>agree</td>\n",
       "      <td>A RESPECTED senior French police officer inves...</td>\n",
       "    </tr>\n",
       "  </tbody>\n",
       "</table>\n",
       "</div>"
      ],
      "text/plain": [
       "                                            Headline  Body ID     Stance  \\\n",
       "0  Ferguson riots: Pregnant woman loses eye after...     2008  unrelated   \n",
       "1  Apple Stores to install safes to secure gold A...     2008  unrelated   \n",
       "2  Pregnant woman loses eye after police shoot be...     2008  unrelated   \n",
       "3  We just found out the #Ferguson Protester who ...     2008  unrelated   \n",
       "4  Police Chief In Charge of Paris Attacks Commit...     2008      agree   \n",
       "\n",
       "                                         articleBody  \n",
       "0  A RESPECTED senior French police officer inves...  \n",
       "1  A RESPECTED senior French police officer inves...  \n",
       "2  A RESPECTED senior French police officer inves...  \n",
       "3  A RESPECTED senior French police officer inves...  \n",
       "4  A RESPECTED senior French police officer inves...  "
      ]
     },
     "execution_count": 9,
     "metadata": {},
     "output_type": "execute_result"
    }
   ],
   "source": [
    "talos_official_data = FncData(\n",
    "    bodies_csv_path=os.path.join(FNC_DATA_PATH, 'competition_test_bodies.csv'),\n",
    "    stances_csv_path=os.path.join('talos', 'official_averaged_2models_cor4.csv'))\n",
    "talos_official_data.headlines_bodies_and_stances.head()"
   ]
  },
  {
   "cell_type": "code",
   "execution_count": null,
   "metadata": {},
   "outputs": [],
   "source": []
  },
  {
   "cell_type": "code",
   "execution_count": 10,
   "metadata": {},
   "outputs": [],
   "source": [
    "ucl_stances = pd.read_csv(os.path.join('ucl', 'predictions_test.csv'))\n",
    "ucl_headlines_and_stances = pd.concat([\n",
    "        competition_data.headlines_and_stances[['Headline', 'Body ID']],\n",
    "        ucl_stances\n",
    "    ], axis=1)\n",
    "ucl_headlines_and_stances.to_csv(\n",
    "    os.path.join('ucl', 'predictions_test_with_headlines.csv'))"
   ]
  },
  {
   "cell_type": "code",
   "execution_count": 11,
   "metadata": {},
   "outputs": [
    {
     "data": {
      "text/html": [
       "<div>\n",
       "<style scoped>\n",
       "    .dataframe tbody tr th:only-of-type {\n",
       "        vertical-align: middle;\n",
       "    }\n",
       "\n",
       "    .dataframe tbody tr th {\n",
       "        vertical-align: top;\n",
       "    }\n",
       "\n",
       "    .dataframe thead th {\n",
       "        text-align: right;\n",
       "    }\n",
       "</style>\n",
       "<table border=\"1\" class=\"dataframe\">\n",
       "  <thead>\n",
       "    <tr style=\"text-align: right;\">\n",
       "      <th></th>\n",
       "      <th>Unnamed: 0</th>\n",
       "      <th>Headline</th>\n",
       "      <th>Body ID</th>\n",
       "      <th>Stance</th>\n",
       "      <th>articleBody</th>\n",
       "    </tr>\n",
       "  </thead>\n",
       "  <tbody>\n",
       "    <tr>\n",
       "      <th>0</th>\n",
       "      <td>0</td>\n",
       "      <td>Ferguson riots: Pregnant woman loses eye after...</td>\n",
       "      <td>2008</td>\n",
       "      <td>unrelated</td>\n",
       "      <td>A RESPECTED senior French police officer inves...</td>\n",
       "    </tr>\n",
       "    <tr>\n",
       "      <th>1</th>\n",
       "      <td>1481</td>\n",
       "      <td>Apple Stores to install safes to secure gold A...</td>\n",
       "      <td>2008</td>\n",
       "      <td>unrelated</td>\n",
       "      <td>A RESPECTED senior French police officer inves...</td>\n",
       "    </tr>\n",
       "    <tr>\n",
       "      <th>2</th>\n",
       "      <td>3041</td>\n",
       "      <td>Pregnant woman loses eye after police shoot be...</td>\n",
       "      <td>2008</td>\n",
       "      <td>unrelated</td>\n",
       "      <td>A RESPECTED senior French police officer inves...</td>\n",
       "    </tr>\n",
       "    <tr>\n",
       "      <th>3</th>\n",
       "      <td>5210</td>\n",
       "      <td>We just found out the #Ferguson Protester who ...</td>\n",
       "      <td>2008</td>\n",
       "      <td>unrelated</td>\n",
       "      <td>A RESPECTED senior French police officer inves...</td>\n",
       "    </tr>\n",
       "    <tr>\n",
       "      <th>4</th>\n",
       "      <td>9999</td>\n",
       "      <td>Police Chief In Charge of Paris Attacks Commit...</td>\n",
       "      <td>2008</td>\n",
       "      <td>discuss</td>\n",
       "      <td>A RESPECTED senior French police officer inves...</td>\n",
       "    </tr>\n",
       "  </tbody>\n",
       "</table>\n",
       "</div>"
      ],
      "text/plain": [
       "   Unnamed: 0                                           Headline  Body ID  \\\n",
       "0           0  Ferguson riots: Pregnant woman loses eye after...     2008   \n",
       "1        1481  Apple Stores to install safes to secure gold A...     2008   \n",
       "2        3041  Pregnant woman loses eye after police shoot be...     2008   \n",
       "3        5210  We just found out the #Ferguson Protester who ...     2008   \n",
       "4        9999  Police Chief In Charge of Paris Attacks Commit...     2008   \n",
       "\n",
       "      Stance                                        articleBody  \n",
       "0  unrelated  A RESPECTED senior French police officer inves...  \n",
       "1  unrelated  A RESPECTED senior French police officer inves...  \n",
       "2  unrelated  A RESPECTED senior French police officer inves...  \n",
       "3  unrelated  A RESPECTED senior French police officer inves...  \n",
       "4    discuss  A RESPECTED senior French police officer inves...  "
      ]
     },
     "execution_count": 11,
     "metadata": {},
     "output_type": "execute_result"
    }
   ],
   "source": [
    "\n",
    "ucl_data = FncData(\n",
    "    bodies_csv_path=os.path.join(FNC_DATA_PATH, 'competition_test_bodies.csv'),\n",
    "    stances_csv_path=os.path.join('ucl', 'predictions_test_with_headlines.csv'))\n",
    "ucl_data.headlines_bodies_and_stances.head()"
   ]
  },
  {
   "cell_type": "code",
   "execution_count": 12,
   "metadata": {},
   "outputs": [],
   "source": [
    "ucl_official_stances = pd.read_csv(\n",
    "    os.path.join('ucl', 'official_predictions_test.csv'))\n",
    "ucl_official_headlines_and_stances = pd.concat([\n",
    "        competition_data.headlines_and_stances[['Headline', 'Body ID']],\n",
    "        ucl_official_stances\n",
    "    ], axis=1)\n",
    "ucl_official_headlines_and_stances.to_csv(\n",
    "    os.path.join('ucl', 'official_predictions_test_with_headlines.csv'))"
   ]
  },
  {
   "cell_type": "code",
   "execution_count": 13,
   "metadata": {},
   "outputs": [
    {
     "data": {
      "text/html": [
       "<div>\n",
       "<style scoped>\n",
       "    .dataframe tbody tr th:only-of-type {\n",
       "        vertical-align: middle;\n",
       "    }\n",
       "\n",
       "    .dataframe tbody tr th {\n",
       "        vertical-align: top;\n",
       "    }\n",
       "\n",
       "    .dataframe thead th {\n",
       "        text-align: right;\n",
       "    }\n",
       "</style>\n",
       "<table border=\"1\" class=\"dataframe\">\n",
       "  <thead>\n",
       "    <tr style=\"text-align: right;\">\n",
       "      <th></th>\n",
       "      <th>Unnamed: 0</th>\n",
       "      <th>Headline</th>\n",
       "      <th>Body ID</th>\n",
       "      <th>Stance</th>\n",
       "      <th>articleBody</th>\n",
       "    </tr>\n",
       "  </thead>\n",
       "  <tbody>\n",
       "    <tr>\n",
       "      <th>0</th>\n",
       "      <td>0</td>\n",
       "      <td>Ferguson riots: Pregnant woman loses eye after...</td>\n",
       "      <td>2008</td>\n",
       "      <td>unrelated</td>\n",
       "      <td>A RESPECTED senior French police officer inves...</td>\n",
       "    </tr>\n",
       "    <tr>\n",
       "      <th>1</th>\n",
       "      <td>1481</td>\n",
       "      <td>Apple Stores to install safes to secure gold A...</td>\n",
       "      <td>2008</td>\n",
       "      <td>unrelated</td>\n",
       "      <td>A RESPECTED senior French police officer inves...</td>\n",
       "    </tr>\n",
       "    <tr>\n",
       "      <th>2</th>\n",
       "      <td>3041</td>\n",
       "      <td>Pregnant woman loses eye after police shoot be...</td>\n",
       "      <td>2008</td>\n",
       "      <td>unrelated</td>\n",
       "      <td>A RESPECTED senior French police officer inves...</td>\n",
       "    </tr>\n",
       "    <tr>\n",
       "      <th>3</th>\n",
       "      <td>5210</td>\n",
       "      <td>We just found out the #Ferguson Protester who ...</td>\n",
       "      <td>2008</td>\n",
       "      <td>unrelated</td>\n",
       "      <td>A RESPECTED senior French police officer inves...</td>\n",
       "    </tr>\n",
       "    <tr>\n",
       "      <th>4</th>\n",
       "      <td>9999</td>\n",
       "      <td>Police Chief In Charge of Paris Attacks Commit...</td>\n",
       "      <td>2008</td>\n",
       "      <td>discuss</td>\n",
       "      <td>A RESPECTED senior French police officer inves...</td>\n",
       "    </tr>\n",
       "  </tbody>\n",
       "</table>\n",
       "</div>"
      ],
      "text/plain": [
       "   Unnamed: 0                                           Headline  Body ID  \\\n",
       "0           0  Ferguson riots: Pregnant woman loses eye after...     2008   \n",
       "1        1481  Apple Stores to install safes to secure gold A...     2008   \n",
       "2        3041  Pregnant woman loses eye after police shoot be...     2008   \n",
       "3        5210  We just found out the #Ferguson Protester who ...     2008   \n",
       "4        9999  Police Chief In Charge of Paris Attacks Commit...     2008   \n",
       "\n",
       "      Stance                                        articleBody  \n",
       "0  unrelated  A RESPECTED senior French police officer inves...  \n",
       "1  unrelated  A RESPECTED senior French police officer inves...  \n",
       "2  unrelated  A RESPECTED senior French police officer inves...  \n",
       "3  unrelated  A RESPECTED senior French police officer inves...  \n",
       "4    discuss  A RESPECTED senior French police officer inves...  "
      ]
     },
     "execution_count": 13,
     "metadata": {},
     "output_type": "execute_result"
    }
   ],
   "source": [
    "ucl_official_data = FncData(\n",
    "    bodies_csv_path=os.path.join(FNC_DATA_PATH, 'competition_test_bodies.csv'),\n",
    "    stances_csv_path=os.path.join('ucl', \\\n",
    "        'official_predictions_test_with_headlines.csv'))\n",
    "ucl_official_data.headlines_bodies_and_stances.head()"
   ]
  },
  {
   "cell_type": "code",
   "execution_count": null,
   "metadata": {},
   "outputs": [],
   "source": []
  },
  {
   "cell_type": "code",
   "execution_count": 14,
   "metadata": {},
   "outputs": [],
   "source": [
    "evaluator = Evaluator()\n",
    "\n",
    "def evaluateResults(stances, prediction, decimals=4):\n",
    "    score = evaluator.getScore(stances, prediction)\n",
    "    score_percentage = evaluator.getScorePercentage(\n",
    "        stances, prediction)\n",
    "    is_related_correctness = evaluator.getIsRelatedCorrectness(\n",
    "        stances, prediction)\n",
    "    unrelated_correctness = evaluator.getUnrelatedCorrectness(\n",
    "        stances, prediction)\n",
    "    related_correctness = evaluator.getRelatedCorrectness(\n",
    "        stances, prediction)\n",
    "    relationship_correctness = evaluator.getRelationshipCorrectness(\n",
    "        stances, prediction)\n",
    "    print('Results:')\n",
    "    print('    score:', score)\n",
    "    print('    score_percentage: {:.{precision}f}'. \\\n",
    "        format(score_percentage, precision=decimals))\n",
    "    print('    is_related_correctness: {:.{precision}f}' \\\n",
    "        .format(is_related_correctness, precision=decimals))\n",
    "    print('    unrelated_correctness: {:.{precision}f}' \\\n",
    "        .format(unrelated_correctness, precision=decimals))\n",
    "    print('    related_correctness: {:.{precision}f}' \\\n",
    "        .format(related_correctness, precision=decimals))\n",
    "    print('    relationship_correctness: {:.{precision}f}' \\\n",
    "        .format(relationship_correctness, precision=decimals))\n",
    "    return"
   ]
  },
  {
   "cell_type": "code",
   "execution_count": null,
   "metadata": {},
   "outputs": [],
   "source": []
  },
  {
   "cell_type": "code",
   "execution_count": 15,
   "metadata": {},
   "outputs": [],
   "source": [
    "competition_stances = competition_data.headlines_and_stances['Stance']"
   ]
  },
  {
   "cell_type": "code",
   "execution_count": null,
   "metadata": {},
   "outputs": [],
   "source": []
  },
  {
   "cell_type": "code",
   "execution_count": 16,
   "metadata": {},
   "outputs": [
    {
     "name": "stdout",
     "output_type": "stream",
     "text": [
      "Results:\n",
      "    score: 9474.0\n",
      "    score_percentage: 0.8131\n",
      "    is_related_correctness: 0.9649\n",
      "    unrelated_correctness: 0.7161\n",
      "    related_correctness: 0.2488\n",
      "    relationship_correctness: 0.7050\n"
     ]
    }
   ],
   "source": [
    "athene_stances = athene_data.headlines_and_stances['Stance']\n",
    "evaluateResults(competition_stances, athene_stances)"
   ]
  },
  {
   "cell_type": "code",
   "execution_count": 17,
   "metadata": {},
   "outputs": [
    {
     "name": "stdout",
     "output_type": "stream",
     "text": [
      "Results:\n",
      "    score: 9550.75\n",
      "    score_percentage: 0.8197\n",
      "    is_related_correctness: 0.9688\n",
      "    unrelated_correctness: 0.7166\n",
      "    related_correctness: 0.2522\n",
      "    relationship_correctness: 0.7066\n"
     ]
    }
   ],
   "source": [
    "athene_official_stances = athene_official_data.headlines_and_stances['Stance']\n",
    "evaluateResults(competition_stances, athene_official_stances)"
   ]
  },
  {
   "cell_type": "code",
   "execution_count": null,
   "metadata": {},
   "outputs": [],
   "source": []
  },
  {
   "cell_type": "code",
   "execution_count": 18,
   "metadata": {},
   "outputs": [
    {
     "name": "stdout",
     "output_type": "stream",
     "text": [
      "Results:\n",
      "    score: 9528.25\n",
      "    score_percentage: 0.8178\n",
      "    is_related_correctness: 0.9691\n",
      "    unrelated_correctness: 0.7125\n",
      "    related_correctness: 0.2566\n",
      "    relationship_correctness: 0.6893\n"
     ]
    }
   ],
   "source": [
    "talos_stances = talos_data.headlines_and_stances['Stance']\n",
    "evaluateResults(competition_stances, talos_stances)"
   ]
  },
  {
   "cell_type": "code",
   "execution_count": 19,
   "metadata": {},
   "outputs": [
    {
     "name": "stdout",
     "output_type": "stream",
     "text": [
      "Results:\n",
      "    score: 9556.5\n",
      "    score_percentage: 0.8202\n",
      "    is_related_correctness: 0.9697\n",
      "    unrelated_correctness: 0.7127\n",
      "    related_correctness: 0.2570\n",
      "    relationship_correctness: 0.6933\n"
     ]
    }
   ],
   "source": [
    "talos_official_stances = talos_official_data.headlines_and_stances['Stance']\n",
    "evaluateResults(competition_stances, talos_official_stances)"
   ]
  },
  {
   "cell_type": "code",
   "execution_count": null,
   "metadata": {},
   "outputs": [],
   "source": []
  },
  {
   "cell_type": "code",
   "execution_count": 20,
   "metadata": {},
   "outputs": [
    {
     "name": "stdout",
     "output_type": "stream",
     "text": [
      "Results:\n",
      "    score: 9514.0\n",
      "    score_percentage: 0.8166\n",
      "    is_related_correctness: 0.9621\n",
      "    unrelated_correctness: 0.7026\n",
      "    related_correctness: 0.2596\n",
      "    relationship_correctness: 0.6875\n"
     ]
    }
   ],
   "source": [
    "ucl_stances = ucl_data.headlines_and_stances['Stance']\n",
    "evaluateResults(competition_stances, ucl_stances)"
   ]
  },
  {
   "cell_type": "code",
   "execution_count": 21,
   "metadata": {},
   "outputs": [
    {
     "name": "stdout",
     "output_type": "stream",
     "text": [
      "Results:\n",
      "    score: 9521.5\n",
      "    score_percentage: 0.8172\n",
      "    is_related_correctness: 0.9655\n",
      "    unrelated_correctness: 0.7068\n",
      "    related_correctness: 0.2586\n",
      "    relationship_correctness: 0.6873\n"
     ]
    }
   ],
   "source": [
    "ucl_official_stances = ucl_official_data.headlines_and_stances['Stance']\n",
    "evaluateResults(competition_stances, ucl_official_stances)"
   ]
  },
  {
   "cell_type": "code",
   "execution_count": null,
   "metadata": {},
   "outputs": [],
   "source": []
  },
  {
   "cell_type": "code",
   "execution_count": null,
   "metadata": {},
   "outputs": [],
   "source": []
  }
 ],
 "metadata": {
  "kernelspec": {
   "display_name": "Python 3.10.2 64-bit",
   "language": "python",
   "name": "python3"
  },
  "language_info": {
   "codemirror_mode": {
    "name": "ipython",
    "version": 3
   },
   "file_extension": ".py",
   "mimetype": "text/x-python",
   "name": "python",
   "nbconvert_exporter": "python",
   "pygments_lexer": "ipython3",
   "version": "3.10.2"
  },
  "orig_nbformat": 4,
  "vscode": {
   "interpreter": {
    "hash": "301a17a29b57d3836b7901af1621afd6d2b1f2298b9c7949191147cf2fea93e3"
   }
  }
 },
 "nbformat": 4,
 "nbformat_minor": 2
}
