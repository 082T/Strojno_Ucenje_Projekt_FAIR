{
 "cells": [
  {
   "cell_type": "code",
   "execution_count": 1,
   "metadata": {},
   "outputs": [],
   "source": [
    "import os\n",
    "import numpy as np\n",
    "import pandas as pd"
   ]
  },
  {
   "cell_type": "code",
   "execution_count": 2,
   "metadata": {},
   "outputs": [],
   "source": [
    "REPRODUCTION_DATA_PATH = '../reproduction/'\n",
    "athene_results = pd.read_csv(os.path.join(REPRODUCTION_DATA_PATH, \\\n",
    "     'athene', 'official_FNC_submission.csv'))\n",
    "talos_results = pd.read_csv(os.path.join(REPRODUCTION_DATA_PATH, \\\n",
    "     'talos', 'official_averaged_2models_cor4.csv'))\n",
    "ucl_results = pd.read_csv(os.path.join(REPRODUCTION_DATA_PATH, \\\n",
    "     'ucl', 'official_predictions_test_with_headlines.csv'))"
   ]
  },
  {
   "cell_type": "code",
   "execution_count": 3,
   "metadata": {},
   "outputs": [],
   "source": [
    "bert_entailment_filename = 'comp_autosave_after_epoch_10'\n",
    "bert_entailment_results = pd.read_csv(bert_entailment_filename + '.csv')\n",
    "bert_entailment_results = bert_entailment_results.rename(columns=dict({'Stance': 'BertStance'}))\n",
    "bert_entailment_results = bert_entailment_results.drop(['articleBody', 'Unnamed: 0'], axis=1)\n",
    "bert_entailment_results = bert_entailment_results.drop_duplicates(subset=['Headline', 'Body ID'])"
   ]
  },
  {
   "cell_type": "code",
   "execution_count": 11,
   "metadata": {},
   "outputs": [],
   "source": [
    "def combineResults(team_results, bert_entailment_results):\n",
    "\n",
    "    team_results = team_results.rename(columns=dict({'Stance': 'TeamStance'}))\n",
    "    formatted_results = pd.merge(team_results, bert_entailment_results, \\\n",
    "        how='left', on=['Headline', 'Body ID']\n",
    "    )\n",
    "    formatted_results['Stance'] = np.where(\n",
    "        (formatted_results['TeamStance'] != 'unrelated') \\\n",
    "            & (~(formatted_results['Guess'].isnull())),\n",
    "        formatted_results['Guess'], formatted_results['TeamStance']\n",
    "    )\n",
    "    #return formatted_results[['Headline', 'Body ID', 'Stance']]\n",
    "    return formatted_results\n"
   ]
  },
  {
   "cell_type": "code",
   "execution_count": 5,
   "metadata": {},
   "outputs": [],
   "source": [
    "bert_entailment_with_athene_results = combineResults(athene_results, \\\n",
    "     bert_entailment_results)\n",
    "bert_entailment_with_athene_results.to_csv(\n",
    "    bert_entailment_filename + '_athene.csv', index=False)"
   ]
  },
  {
   "cell_type": "code",
   "execution_count": 6,
   "metadata": {},
   "outputs": [],
   "source": [
    "bert_entailment_with_talos_results = combineResults(talos_results, \\\n",
    "    bert_entailment_results)\n",
    "bert_entailment_with_talos_results.to_csv(\n",
    "    bert_entailment_filename + '_talos.csv', index=False)"
   ]
  },
  {
   "cell_type": "code",
   "execution_count": 7,
   "metadata": {},
   "outputs": [],
   "source": [
    "bert_entailment_with_ucl_results = combineResults(ucl_results, \\\n",
    "    bert_entailment_results)\n",
    "bert_entailment_with_ucl_results.to_csv(\n",
    "    bert_entailment_filename + '_ucl.csv', index=False)"
   ]
  },
  {
   "cell_type": "code",
   "execution_count": null,
   "metadata": {},
   "outputs": [],
   "source": []
  },
  {
   "cell_type": "code",
   "execution_count": null,
   "metadata": {},
   "outputs": [],
   "source": []
  }
 ],
 "metadata": {
  "kernelspec": {
   "display_name": "Python 3.10.2 64-bit",
   "language": "python",
   "name": "python3"
  },
  "language_info": {
   "codemirror_mode": {
    "name": "ipython",
    "version": 3
   },
   "file_extension": ".py",
   "mimetype": "text/x-python",
   "name": "python",
   "nbconvert_exporter": "python",
   "pygments_lexer": "ipython3",
   "version": "3.10.2"
  },
  "orig_nbformat": 4,
  "vscode": {
   "interpreter": {
    "hash": "301a17a29b57d3836b7901af1621afd6d2b1f2298b9c7949191147cf2fea93e3"
   }
  }
 },
 "nbformat": 4,
 "nbformat_minor": 2
}
